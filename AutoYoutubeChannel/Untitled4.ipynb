{
 "cells": [
  {
   "cell_type": "code",
   "execution_count": 4,
   "metadata": {},
   "outputs": [],
   "source": [
    "import translators as ts\n"
   ]
  },
  {
   "cell_type": "code",
   "execution_count": 3,
   "metadata": {},
   "outputs": [],
   "source": [
    "def translateToSpanish(text):\n",
    "    result = ts.google(text,'en','es')\n",
    "    return result"
   ]
  },
  {
   "cell_type": "code",
   "execution_count": null,
   "metadata": {},
   "outputs": [],
   "source": [
    "def separateByLines(text, charsInLine):\n",
    "    clearLines=[]\n",
    "    index=0\n",
    "    if(text.find('\\n')!=-1):\n",
    "        lines=text.split('\\n')\n",
    "        for line in lines:\n",
    "            if(len(line)<charsInLine):\n",
    "                clearLines.append(line)\n",
    "            else:\n",
    "                line.replace('\\n','')\n",
    "                sublines=[line[i:i+charsInLine] for i in range(0, len(line), charsInLine)]\n",
    "                clearLines.extend(sublines)\n",
    "        index+=1\n",
    "    else:\n",
    "        clearLines=[text[i:i+charsInLine] for i in range(0, len(text), charsInLine)]\n",
    "    return clearLines\n",
    "    \n"
   ]
  }
 ],
 "metadata": {
  "kernelspec": {
   "display_name": "Python 3",
   "language": "python",
   "name": "python3"
  },
  "language_info": {
   "codemirror_mode": {
    "name": "ipython",
    "version": 3
   },
   "file_extension": ".py",
   "mimetype": "text/x-python",
   "name": "python",
   "nbconvert_exporter": "python",
   "pygments_lexer": "ipython3",
   "version": "3.7.3"
  }
 },
 "nbformat": 4,
 "nbformat_minor": 2
}
