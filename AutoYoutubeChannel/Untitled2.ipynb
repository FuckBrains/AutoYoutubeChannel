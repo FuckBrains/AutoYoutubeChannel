{
 "cells": [
  {
   "cell_type": "code",
   "execution_count": 2,
   "metadata": {},
   "outputs": [],
   "source": [
    "from google_auth_oauthlib.flow import Flow\n",
    "from colorama import init, Fore\n",
    "\n",
    "SCOPES = ['https://www.googleapis.com/auth/youtube.upload']\n",
    "API_SERVICE_NAME = 'youtube'\n",
    "API_VERSION = 'v3'\n",
    "\n",
    "VALID_PRIVACY_STATUSES = ('public', 'private', 'unlisted')\n",
    "\n",
    "\n",
    "\n",
    "\n",
    "\n",
    "def get_credentials(secrets):\n",
    "    flow = Flow.from_client_config(\n",
    "        secrets,\n",
    "        scopes=SCOPES,\n",
    "        redirect_uri='urn:ietf:wg:oauth:2.0:oob')\n",
    "\n",
    "    # Tell the user to go to the authorization URL.\n",
    "    auth_url, _ = flow.authorization_url(prompt='consent')\n",
    "\n",
    "    init(autoreset=True)\n",
    "    print()\n",
    "    print(Fore.GREEN + 'Please go to this URL: ' + Fore.CYAN + str(auth_url))\n",
    "\n",
    "    # The user will get an authorization code. This code is used to get the\n",
    "    # access token.\n",
    "    print()\n",
    "    code = input(Fore.GREEN + 'Enter the authorization code: ')\n",
    "    flow.fetch_token(code=code)\n",
    "    print()\n",
    "\n",
    "    return flow.credentials\n",
    "\n",
    "    # using flow.authorized_session.\n",
    "    # session = flow.authorized_session()\n",
    "    # print(session.get('https://www.googleapis.com/userinfo/v2/me').json())"
   ]
  },
  {
   "cell_type": "code",
   "execution_count": null,
   "metadata": {},
   "outputs": [],
   "source": []
  }
 ],
 "metadata": {
  "kernelspec": {
   "display_name": "Python 3",
   "language": "python",
   "name": "python3"
  },
  "language_info": {
   "codemirror_mode": {
    "name": "ipython",
    "version": 3
   },
   "file_extension": ".py",
   "mimetype": "text/x-python",
   "name": "python",
   "nbconvert_exporter": "python",
   "pygments_lexer": "ipython3",
   "version": "3.7.3"
  }
 },
 "nbformat": 4,
 "nbformat_minor": 2
}
