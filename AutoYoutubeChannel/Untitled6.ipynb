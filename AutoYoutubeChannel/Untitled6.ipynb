{
 "cells": [
  {
   "cell_type": "code",
   "execution_count": null,
   "metadata": {},
   "outputs": [],
   "source": [
    "from moviepy.editor import *\n",
    "import os\n",
    "\n",
    "intro= VideoFileClip('assets for Channel/assets for video/abuela_untro.mp4')\n",
    "outro= VideoFileClip('assets for Channel/assets for video/abuela_outro.mp4')\n",
    "\n",
    "def generate_video_from_file():\n",
    "    videoClips=[]\n",
    "    video\n",
    "    watermark = ImageClip('assets for Channel/Logo/logo-baul_memes.png')\n",
    "    .set_duration(video.duration)\n",
    "          .resize(height=50) # if you need to resize...\n",
    "          .set_pos((\"right\",\"top\")))\n",
    "    videonames=glob.glob(\"/home/*.mp4\")\n",
    "    for name in videonames:\n",
    "        videoClip=VideoClip('name' )\n",
    "        if(video==null):\n",
    "            video=videoClip\n",
    "        else:\n",
    "            video=CompositeVideoClip([video,videoClip])\n",
    "    final = CompositeVideoClip([video, logo])\n",
    "    final.write_videofile(\"final_video.mp4\")\n",
    "    \n",
    "    \n",
    "def get_videos():\n",
    "    "
   ]
  }
 ],
 "metadata": {
  "kernelspec": {
   "display_name": "Python 3",
   "language": "python",
   "name": "python3"
  },
  "language_info": {
   "codemirror_mode": {
    "name": "ipython",
    "version": 3
   },
   "file_extension": ".py",
   "mimetype": "text/x-python",
   "name": "python",
   "nbconvert_exporter": "python",
   "pygments_lexer": "ipython3",
   "version": "3.7.3"
  }
 },
 "nbformat": 4,
 "nbformat_minor": 4
}
