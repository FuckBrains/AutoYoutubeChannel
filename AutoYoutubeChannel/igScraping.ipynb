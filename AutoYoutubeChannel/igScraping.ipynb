{
 "cells": [
  {
   "cell_type": "code",
   "execution_count": 1,
   "metadata": {},
   "outputs": [
    {
     "name": "stderr",
     "output_type": "stream",
     "text": [
      "C:\\Users\\PC\\Anaconda3\\lib\\site-packages\\win_unicode_console\\__init__.py:31: RuntimeWarning: sys.stdin.encoding == 'cp1252', whereas sys.stdout.encoding == 'UTF-8', readline hook consumer may assume they are the same\n",
      "  readline_hook.enable(use_pyreadline=use_pyreadline)\n"
     ]
    }
   ],
   "source": [
    "import instaloader\n",
    "from moviepy.editor import *\n",
    "import glob\n",
    "from upload_video import upload\n",
    "\n",
    "# Get instance\n",
    "L = instaloader.Instaloader()\n",
    "USER='MemesDeContado'\n",
    "PASSWORD='memes123'\n",
    "# Optionally, login or load session\n",
    "L.login(USER, PASSWORD)        # (login)\n",
    "#L.interactive_login(USER)      # (ask password on terminal)\n",
    "#L.load_session_from_file(USER) #"
   ]
  },
  {
   "cell_type": "code",
   "execution_count": null,
   "metadata": {},
   "outputs": [
    {
     "name": "stdout",
     "output_type": "stream",
     "text": [
      "tiktok.memes.x/2020-06-20_21-57-01_UTC.jpg exists [Wait.....we do?] unchanged tiktok.memes.x/2020-06-20_21-57-01_UTC.mp4 exists comments json \n",
      "8.633\n",
      "tiktok.memes.x/2020-06-16_19-43-37_UTC.jpg exists [If you laughed, you going to …] unchanged tiktok.memes.x/2020-06-16_19-43-37_UTC.mp4 exists comments json \n",
      "16.766\n",
      "tiktok.memes.x/2020-06-10_23-00-02_UTC.jpg exists [Rich people smh. 😤] unchanged tiktok.memes.x/2020-06-10_23-00-02_UTC.mp4 exists comments json \n",
      "29.799\n",
      "tiktok.memes.x/2020-06-04_21-15-42_UTC.jpg exists [😳😳] unchanged tiktok.memes.x/2020-06-04_21-15-42_UTC.mp4 exists comments json \n",
      "44.732\n",
      "tiktok.memes.x/2020-05-27_22-15-48_UTC.jpg exists [Sad days 😥😂] unchanged tiktok.memes.x/2020-05-27_22-15-48_UTC.mp4 exists comments json \n",
      "55.364999999999995\n",
      "tiktok.memes.x/2020-05-26_19-42-58_UTC.jpg exists [Where does she belong?] unchanged tiktok.memes.x/2020-05-26_19-42-58_UTC.mp4 exists comments json \n",
      "64.46499999999999\n",
      "tiktok.memes.x/2020-05-25_20-48-38_UTC.jpg exists [The way he looks on the bee o…] unchanged tiktok.memes.x/2020-05-25_20-48-38_UTC.mp4 exists comments json \n",
      "77.49799999999999\n",
      "tiktok.memes.x/2020-05-22_21-11-07_UTC.jpg exists [I'm trynna be this smooth] unchanged tiktok.memes.x/2020-05-22_21-11-07_UTC.mp4 exists comments json \n",
      "85.83099999999999\n",
      "tiktok.memes.x/2020-05-16_19-04-06_UTC.jpg exists [Stay safe kiddo's 🤒😂] unchanged tiktok.memes.x/2020-05-16_19-04-06_UTC.mp4 exists comments json \n",
      "91.46399999999998\n",
      "tiktok.memes.x/2020-05-05_22-54-30_UTC.jpg exists [It really do be like that som…] unchanged tiktok.memes.x/2020-05-05_22-54-30_UTC.mp4 exists comments json \n",
      "103.79699999999998\n",
      "tiktok.memes.x/2020-04-23_22-22-52_UTC.jpg [Thats just evil] tiktok.memes.x/2020-04-23_22-22-52_UTC.mp4 comments json \n",
      "122.09599999999998\n",
      "tiktok.memes.x/2020-04-21_21-15-45_UTC.jpg [I wanna do that] tiktok.memes.x/2020-04-21_21-15-45_UTC.mp4 comments json \n",
      "142.92899999999997\n",
      "tiktok.memes.x/2020-04-21_13-29-14_UTC.jpg [🤦‍♂️] tiktok.memes.x/2020-04-21_13-29-14_UTC.mp4 comments json \n",
      "148.92899999999997\n",
      "tiktok.memes.x/2020-04-19_22-34-53_UTC.jpg [Atleast she has a big....pers…] tiktok.memes.x/2020-04-19_22-34-53_UTC.mp4 comments json \n",
      "165.73599999999996\n",
      "tiktok.memes.x/2020-04-16_22-26-39_UTC.jpg [I'd rather be locked up] tiktok.memes.x/2020-04-16_22-26-39_UTC.mp4 comments json \n",
      "183.80199999999996\n",
      "tiktok.memes.x/2020-04-15_19-05-02_UTC.jpg [Holy shit, i'm learning new s…] tiktok.memes.x/2020-04-15_19-05-02_UTC.mp4 comments json \n",
      "202.00099999999998\n",
      "tiktok.memes.x/2020-04-14_16-35-05_UTC.jpg [Boi if you dont] tiktok.memes.x/2020-04-14_16-35-05_UTC.mp4 comments json \n",
      "258.41499999999996\n",
      "tiktok.memes.x/2020-04-01_21-59-11_UTC.jpg [Dont do drugs kids] tiktok.memes.x/2020-04-01_21-59-11_UTC.mp4 comments json \n",
      "264.748\n",
      "tiktok.memes.x/2020-03-29_20-22-23_UTC.jpg [When you get bullied cus you'…] tiktok.memes.x/2020-03-29_20-22-23_UTC.mp4 comments json \n",
      "277.281\n",
      "tiktok.memes.x/2020-03-27_23-22-43_UTC_1.jpg tiktok.memes.x/2020-03-27_23-22-43_UTC_1.mp4 tiktok.memes.x/2020-03-27_23-22-43_UTC_2.jpg tiktok.memes.x/2020-03-27_23-22-43_UTC_2.mp4 tiktok.memes.x/2020-03-27_23-22-43_UTC_3.jpg tiktok.memes.x/2020-03-27_23-22-43_UTC_3.mp4 [The last one thoooooo 😲😲] comments json \n",
      "277.281\n",
      "tiktok.memes.x/2020-02-23_00-23-43_UTC.jpg tiktok.memes.x/2020-02-23_00-23-43_UTC.mp4 comments json \n",
      "286.347\n",
      "tiktok.memes.x/2020-02-21_23-21-22_UTC.jpg [Goodluck soldier 😂😂😂] tiktok.memes.x/2020-02-21_23-21-22_UTC.mp4 comments json \n",
      "294.47999999999996\n",
      "tiktok.memes.x/2020-02-18_21-58-28_UTC.jpg [#👅🍦] tiktok.memes.x/2020-02-18_21-58-28_UTC.mp4 comments json \n",
      "308.61299999999994\n",
      "tiktok.memes.x/2020-02-16_21-27-03_UTC.jpg [Ffs] tiktok.memes.x/2020-02-16_21-27-03_UTC.mp4 comments json \n",
      "322.84599999999995\n",
      "tiktok.memes.x/2020-02-16_21-19-49_UTC.jpg [😂😂] tiktok.memes.x/2020-02-16_21-19-49_UTC.mp4 comments json \n",
      "340.94599999999997\n",
      "tiktok.memes.x/2020-02-15_00-30-12_UTC.jpg [Happy Valentines ;)] tiktok.memes.x/2020-02-15_00-30-12_UTC.mp4 comments json \n",
      "346.679\n",
      "tiktok.memes.x/2020-01-21_21-43-44_UTC.jpg [\"Boi if you dont\"] tiktok.memes.x/2020-01-21_21-43-44_UTC.mp4 comments json \n",
      "358.34499999999997\n",
      "tiktok.memes.x/2020-01-04_22-05-11_UTC.jpg [🙄] tiktok.memes.x/2020-01-04_22-05-11_UTC.mp4 comments json \n",
      "373.445\n",
      "tiktok.memes.x/2019-12-24_15-53-09_UTC.jpg [@j0hnny_doe] tiktok.memes.x/2019-12-24_15-53-09_UTC.mp4 comments json \n",
      "387.111\n",
      "tiktok.memes.x/2019-12-09_01-19-55_UTC.jpg [😂😂😂😂] tiktok.memes.x/2019-12-09_01-19-55_UTC.mp4 comments json \n",
      "395.51099999999997\n",
      "tiktok.memes.x/2019-11-08_20-48-39_UTC.jpg [I love this 😂😂] tiktok.memes.x/2019-11-08_20-48-39_UTC.mp4 comments json \n",
      "425.41099999999994\n",
      "tiktok.memes.x/2019-11-02_21-49-51_UTC.jpg [He looked like ->🍦] tiktok.memes.x/2019-11-02_21-49-51_UTC.mp4 comments json \n",
      "441.41099999999994\n",
      "tiktok.memes.x/2019-10-16_22-09-58_UTC.jpg [😂😂😂😂😂😂] tiktok.memes.x/2019-10-16_22-09-58_UTC.mp4 comments json \n",
      "457.64399999999995\n",
      "tiktok.memes.x/2019-10-06_21-42-48_UTC.jpg [Damn. She making me wish i di…] tiktok.memes.x/2019-10-06_21-42-48_UTC.mp4 comments json \n",
      "464.5439999999999\n",
      "tiktok.memes.x/2019-10-05_21-51-42_UTC.jpg [Ffs Karen] tiktok.memes.x/2019-10-05_21-51-42_UTC.mp4 comments json \n",
      "478.6769999999999\n",
      "tiktok.memes.x/2019-09-29_20-05-24_UTC.jpg [Oof] tiktok.memes.x/2019-09-29_20-05-24_UTC.mp4 comments json \n",
      "489.9099999999999\n",
      "tiktok.memes.x/2019-09-23_18-13-22_UTC.jpg [Wow how impressive!!! 😂😂😂🤦‍♂️] tiktok.memes.x/2019-09-23_18-13-22_UTC.mp4 comments json \n",
      "507.7759999999999\n",
      "tiktok.memes.x/2019-09-18_18-33-07_UTC.jpg [She really just did that? 😂😂] tiktok.memes.x/2019-09-18_18-33-07_UTC.mp4 comments json \n",
      "524.7419999999998\n",
      "tiktok.memes.x/2019-09-13_20-52-36_UTC.jpg [F] tiktok.memes.x/2019-09-13_20-52-36_UTC.mp4 comments json \n",
      "536.9749999999998\n",
      "tiktok.memes.x/2019-09-11_21-47-36_UTC.jpg [🤦‍♂️🤦‍♂️🤦‍♂️🤦‍♂️🤦‍♂️🤦‍♂️] tiktok.memes.x/2019-09-11_21-47-36_UTC.mp4 \n",
      "Too many queries in the last time. Need to wait 507 seconds, until 18:46.\n",
      "comments json \n",
      "548.1409999999998\n",
      "tiktok.memes.x/2019-09-10_19-56-58_UTC.jpg [Istg this generation is fucked] tiktok.memes.x/2019-09-10_19-56-58_UTC.mp4 comments json \n",
      "564.3069999999999\n",
      "tiktok.memes.x/2019-09-07_22-18-39_UTC.jpg [Bzzzzzzzzz] tiktok.memes.x/2019-09-07_22-18-39_UTC.mp4 comments json \n",
      "589.3069999999999\n",
      "600.0399999999998\n",
      "615.2059999999999\n",
      "642.4389999999999\n",
      "653.9719999999999\n",
      "681.8049999999998\n",
      "695.5379999999998\n",
      "713.6379999999998\n",
      "725.3379999999999\n",
      "735.3709999999999\n",
      "750.5709999999999\n",
      "768.5039999999999\n",
      "784.0699999999999\n",
      "799.9359999999999\n",
      "812.2689999999999\n",
      "826.4019999999999\n",
      "842.8019999999999\n",
      "858.9019999999999\n",
      "868.6679999999999\n",
      "880.6339999999999\n",
      "894.7669999999999\n",
      "906.7669999999999\n",
      "924.867\n",
      "941.2669999999999\n",
      "951.4\n",
      "967.6329999999999\n",
      "980.4329999999999\n",
      "990.6659999999998\n",
      "1005.4319999999998\n",
      "1020.8649999999998\n",
      "1080.8649999999998\n",
      "1092.5309999999997\n",
      "1108.9639999999997\n",
      "1118.9299999999996\n",
      "1138.8959999999995\n",
      "1198.6289999999995\n",
      "1211.4289999999994\n",
      "1226.1289999999995\n",
      "1246.0949999999993\n",
      "1261.1949999999993\n",
      "1274.2949999999992\n",
      "1291.260999999999\n",
      "1305.326999999999\n",
      "1316.126999999999\n",
      "1328.359999999999\n",
      "1341.259999999999\n",
      "1359.192999999999\n",
      "1377.292999999999\n",
      "1394.992999999999\n",
      "1413.092999999999\n",
      "1424.658999999999\n",
      "1438.158999999999\n",
      "1465.891999999999\n",
      "1480.291999999999\n",
      "1494.924999999999\n",
      "1512.790999999999\n"
     ]
    }
   ],
   "source": [
    "MEMEPAGE='tiktok.memes.x'\n",
    "profile = instaloader.Profile.from_username(L.context, MEMEPAGE)\n",
    "videoDuration=0\n",
    "limit=60*10\n",
    "for post in profile.get_posts():\n",
    "    if(post.is_video):\n",
    "        videoDuration+=post.video_duration\n",
    "    if(videoDuration<limit):\n",
    "        L.download_post(post, target=profile.username)\n",
    "    else:\n",
    "        break\n",
    "    print(videoDuration)"
   ]
  },
  {
   "cell_type": "code",
   "execution_count": 2,
   "metadata": {
    "scrolled": true
   },
   "outputs": [
    {
     "name": "stdout",
     "output_type": "stream",
     "text": [
      "files:\n",
      "['tiktok.memes.x\\\\2019-09-07_22-18-39_UTC.mp4', 'tiktok.memes.x\\\\2019-09-10_19-56-58_UTC.mp4', 'tiktok.memes.x\\\\2019-09-11_21-47-36_UTC.mp4', 'tiktok.memes.x\\\\2019-09-13_20-52-36_UTC.mp4', 'tiktok.memes.x\\\\2019-09-18_18-33-07_UTC.mp4', 'tiktok.memes.x\\\\2019-09-23_18-13-22_UTC.mp4', 'tiktok.memes.x\\\\2019-09-29_20-05-24_UTC.mp4', 'tiktok.memes.x\\\\2019-10-05_21-51-42_UTC.mp4', 'tiktok.memes.x\\\\2019-10-06_21-42-48_UTC.mp4', 'tiktok.memes.x\\\\2019-10-16_22-09-58_UTC.mp4', 'tiktok.memes.x\\\\2019-11-02_21-49-51_UTC.mp4', 'tiktok.memes.x\\\\2019-11-08_20-48-39_UTC.mp4', 'tiktok.memes.x\\\\2019-12-09_01-19-55_UTC.mp4', 'tiktok.memes.x\\\\2019-12-24_15-53-09_UTC.mp4', 'tiktok.memes.x\\\\2020-01-04_22-05-11_UTC.mp4', 'tiktok.memes.x\\\\2020-01-21_21-43-44_UTC.mp4', 'tiktok.memes.x\\\\2020-02-15_00-30-12_UTC.mp4', 'tiktok.memes.x\\\\2020-02-16_21-19-49_UTC.mp4', 'tiktok.memes.x\\\\2020-02-16_21-27-03_UTC.mp4', 'tiktok.memes.x\\\\2020-02-18_21-58-28_UTC.mp4', 'tiktok.memes.x\\\\2020-02-21_23-21-22_UTC.mp4', 'tiktok.memes.x\\\\2020-02-23_00-23-43_UTC.mp4', 'tiktok.memes.x\\\\2020-03-27_23-22-43_UTC_1.mp4', 'tiktok.memes.x\\\\2020-03-27_23-22-43_UTC_2.mp4', 'tiktok.memes.x\\\\2020-03-27_23-22-43_UTC_3.mp4', 'tiktok.memes.x\\\\2020-03-29_20-22-23_UTC.mp4', 'tiktok.memes.x\\\\2020-04-01_21-59-11_UTC.mp4', 'tiktok.memes.x\\\\2020-04-14_16-35-05_UTC.mp4', 'tiktok.memes.x\\\\2020-04-15_19-05-02_UTC.mp4', 'tiktok.memes.x\\\\2020-04-16_22-26-39_UTC.mp4', 'tiktok.memes.x\\\\2020-04-19_22-34-53_UTC.mp4', 'tiktok.memes.x\\\\2020-04-21_13-29-14_UTC.mp4', 'tiktok.memes.x\\\\2020-04-21_21-15-45_UTC.mp4', 'tiktok.memes.x\\\\2020-04-23_22-22-52_UTC.mp4', 'tiktok.memes.x\\\\2020-05-05_22-54-30_UTC.mp4', 'tiktok.memes.x\\\\2020-05-16_19-04-06_UTC.mp4', 'tiktok.memes.x\\\\2020-05-22_21-11-07_UTC.mp4', 'tiktok.memes.x\\\\2020-05-25_20-48-38_UTC.mp4', 'tiktok.memes.x\\\\2020-05-26_19-42-58_UTC.mp4', 'tiktok.memes.x\\\\2020-05-27_22-15-48_UTC.mp4', 'tiktok.memes.x\\\\2020-06-04_21-15-42_UTC.mp4', 'tiktok.memes.x\\\\2020-06-10_23-00-02_UTC.mp4', 'tiktok.memes.x\\\\2020-06-16_19-43-37_UTC.mp4', 'tiktok.memes.x\\\\2020-06-20_21-57-01_UTC.mp4']\n"
     ]
    },
    {
     "name": "stderr",
     "output_type": "stream",
     "text": [
      "chunk:   0%|          | 2/16517 [00:00<15:43, 17.51it/s, now=None]"
     ]
    },
    {
     "name": "stdout",
     "output_type": "stream",
     "text": [
      "Moviepy - Building video abuela_test.mp4.\n",
      "MoviePy - Writing audio in %s\n"
     ]
    },
    {
     "name": "stderr",
     "output_type": "stream",
     "text": [
      "t:   0%|          | 2/22472 [00:00<23:43, 15.79it/s, now=None]         "
     ]
    },
    {
     "name": "stdout",
     "output_type": "stream",
     "text": [
      "MoviePy - Done.\n",
      "Moviepy - Writing video abuela_test.mp4\n",
      "\n"
     ]
    },
    {
     "name": "stderr",
     "output_type": "stream",
     "text": [
      "                                                                  \r"
     ]
    },
    {
     "name": "stdout",
     "output_type": "stream",
     "text": [
      "Moviepy - Done !\n",
      "Moviepy - video ready abuela_test.mp4\n"
     ]
    }
   ],
   "source": [
    "\n",
    "\n",
    "intro= VideoFileClip('assets for Channel/assets for video/abuela_intro_final.mp4')\n",
    "outro= VideoFileClip('assets for Channel/assets for video/abuela_outro_final.mp4')\n",
    "blackScreen= ImageClip('assets for Channel/assets for video/background assets/black.jpg').on_color((1920, 1080)).set_duration(1)\n",
    "\n",
    "videoClips=[]\n",
    "videonames=glob.glob(\"tiktok.memes.x/*.mp4\")\n",
    "print('files:')\n",
    "print(videonames)\n",
    "for name in videonames:\n",
    "    videoClips.append(VideoFileClip(name))\n",
    "\n",
    "\n",
    "video=concatenate_videoclips(videoClips)  \n",
    "watermark = ImageClip('assets for Channel/Logo/logo-baul_memes.png').set_duration(video.duration).resize(height=50) # if you need to resize....set_pos((\"right\",\"top\")))\n",
    "videoFix = CompositeVideoClip([video, watermark])\n",
    "finalVideo=concatenate_videoclips([intro,videoFix,blackScreen,outro], method=\"compose\")\n",
    "finalVideo.write_videofile(filename=\"abuela_test.mp4\",fps=30)\n",
    "    \n",
    "    "
   ]
  },
  {
   "cell_type": "code",
   "execution_count": 3,
   "metadata": {},
   "outputs": [
    {
     "name": "stdout",
     "output_type": "stream",
     "text": [
      "['tiktok mashup', 'tiktok de los polinesios', 'tiktok tiburon', 'tik tok esperancita', 'tiktokers', 'tiktok mami que tu quieres', 'tiktok kunno', 'tiktok songs', 'tiktok de terror', 'tik tok aqui llego tu tiburon', 'tik tok abre la puerta']\n",
      "Please visit this URL to authorize this application: https://accounts.google.com/o/oauth2/auth?response_type=code&client_id=1088473881771-qvt2coj2rtdsha9hpe13g96fpid1du9c.apps.googleusercontent.com&redirect_uri=urn%3Aietf%3Awg%3Aoauth%3A2.0%3Aoob&scope=https%3A%2F%2Fwww.googleapis.com%2Fauth%2Fyoutube.upload&state=eSzsabKxOcxUQb8qktELvnmh5zF31e&prompt=consent&access_type=offline\n",
      "Enter the authorization code: 4/2AHGY2iYAmL9W8f0lKlDti4JcTbwhhDab60ggRzig8C4fnftDCSqnoY\n",
      "\n",
      "Uploading file...\n",
      "\n",
      "Video id \"gpSwgsLC-T0\" was successfully uploaded.\n"
     ]
    },
    {
     "data": {
      "text/plain": [
       "'https://www.youtube.com/watch?v=gpSwgsLC-T0'"
      ]
     },
     "execution_count": 3,
     "metadata": {},
     "output_type": "execute_result"
    }
   ],
   "source": [
    "import pandas as pd\n",
    "from upload_video import upload\n",
    "\n",
    "df = pd.read_csv('tiktokTags.csv',header=None) # can also index sheet by name or fetch all sheets\n",
    "preProcessedTags = df[0].tolist()\n",
    "tags=[s.replace('', '') for s in preProcessedTags]\n",
    "usefulTags=[]\n",
    "tagAccepted=False\n",
    "for tag in tags:\n",
    "    tagAccepted=False\n",
    "    for c in tag:\n",
    "        asci=ord(c)\n",
    "        if(asci in range(64,91) or asci in range(96, 123)  or asci in range(47, 58) or c ==' '):\n",
    "            tagAccepted=True\n",
    "        else:\n",
    "            tagAccepted=False\n",
    "            break\n",
    "    if(tagAccepted):\n",
    "        usefulTags.append(tag)\n",
    "    if(len(usefulTags)>10):\n",
    "        break\n",
    "print(usefulTags)\n",
    "upload.upload_video( 'abuela_test.mp4',\n",
    "        title='TikTok Memes, Mejores Memes de Junio--Con certificado de Abuela Crika',\n",
    "        description='La abuela nunca se equivoca, la abuela crika nos proveera de sus memes de su baul magico. No olviden COMPARTIR, LIKE y SUSCribete',\n",
    "        category=22,\n",
    "        privacy='public',\n",
    "        tags=usefulTags)"
   ]
  },
  {
   "cell_type": "code",
   "execution_count": null,
   "metadata": {},
   "outputs": [],
   "source": []
  },
  {
   "cell_type": "code",
   "execution_count": null,
   "metadata": {},
   "outputs": [],
   "source": []
  }
 ],
 "metadata": {
  "kernelspec": {
   "display_name": "Python 3",
   "language": "python",
   "name": "python3"
  },
  "language_info": {
   "codemirror_mode": {
    "name": "ipython",
    "version": 3
   },
   "file_extension": ".py",
   "mimetype": "text/x-python",
   "name": "python",
   "nbconvert_exporter": "python",
   "pygments_lexer": "ipython3",
   "version": "3.7.3"
  }
 },
 "nbformat": 4,
 "nbformat_minor": 4
}
