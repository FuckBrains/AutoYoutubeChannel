{
 "cells": [
  {
   "cell_type": "code",
   "execution_count": 1,
   "metadata": {},
   "outputs": [],
   "source": [
    "import praw\n",
    "from praw.models import MoreComments\n",
    "from gtts import gTTS\n",
    "from moviepy.editor import *"
   ]
  },
  {
   "cell_type": "code",
   "execution_count": 2,
   "metadata": {},
   "outputs": [],
   "source": [
    "reddit = praw.Reddit(client_id='NKFWqJ-lVkno5A',\n",
    "                     client_secret='yNGCITGCIUrx4r7qplCmcpYcWco',\n",
    "                    username='RelevantQA',\n",
    "                    password='preguntas123',\n",
    "                    user_agent='QAbot')\n",
    "\n"
   ]
  },
  {
   "cell_type": "code",
   "execution_count": 3,
   "metadata": {},
   "outputs": [
    {
     "name": "stdout",
     "output_type": "stream",
     "text": [
      "2qh1i\n",
      "****************************************************************************************************\n",
      "Women of Reddit: What was going through your mind when you gave your first blowjob?\n",
      "__________\n",
      "\"This is weird.  This is so weird.  Why do people do this?  Am I doing it right?  I wish he would say or do *something*... Should I stop?  Okay, he made a noise, I think I'm doing it right.  This is still weird.\"\n"
     ]
    }
   ],
   "source": [
    "#get SubReddit, submission & comments\n",
    "subreddit=reddit.subreddit('AskReddit')\n",
    "hot_posts=subreddit.hot(limit=1)\n",
    "commenttext=''\n",
    "print(subreddit.id)\n",
    "for submission in hot_posts:\n",
    "    print(100*'*')\n",
    "    print(submission.title)\n",
    "    tts=gTTS(submission.title,lang='en')\n",
    "    tts.save('title.mp3')\n",
    "    submission.comments_sort='best'\n",
    "    comments = submission.comments.list()\n",
    "    index=0\n",
    "    for comment in comments:\n",
    "        if isinstance(comment,MoreComments):\n",
    "            break\n",
    "        if index==1:\n",
    "            break\n",
    "        print(10*'_')\n",
    "        commenttext=comment\n",
    "        print(comment.body)#filter by len, so bigger comments are extracted no comments with 2 o r 3 words\n",
    "        tts=gTTS(comment.body,lang='en')\n",
    "        tts.save('comment'+str(index)+'.mp3')\n",
    "        index+=1\n",
    "    "
   ]
  },
  {
   "cell_type": "code",
   "execution_count": 6,
   "metadata": {},
   "outputs": [
    {
     "name": "stdout",
     "output_type": "stream",
     "text": [
      "184\n",
      "\"This is weird.  This is so weird.  Why do people do this?  Am I doing it right?  I wish he would say or do *something*... Should I stop?  Okay, \n",
      "209\n",
      "he made a noise, I think I'm doing it right.  This is still weird.\"\n",
      "Moviepy - Building video text.mp4.\n",
      "MoviePy - Writing audio in textTEMP_MPY_wvf_snd.mp3\n"
     ]
    },
    {
     "name": "stderr",
     "output_type": "stream",
     "text": []
    },
    {
     "name": "stdout",
     "output_type": "stream",
     "text": [
      "MoviePy - Done.\n",
      "Moviepy - Writing video text.mp4\n",
      "\n"
     ]
    },
    {
     "name": "stderr",
     "output_type": "stream",
     "text": []
    },
    {
     "name": "stdout",
     "output_type": "stream",
     "text": [
      "Moviepy - Done !\n",
      "Moviepy - video ready text.mp4\n"
     ]
    }
   ],
   "source": [
    "#Video Edition\n",
    "postedByFontSize=25\n",
    "replyFontSize=35\n",
    "cortinilla= VideoFileClip('assets for Channel/assets for video/transicion.mp4')\n",
    "characterLimitBeforeNewLine=145#might change depending on font size\n",
    "textReply= []\n",
    "videoComponents= []\n",
    "filteredSubmission=commenttext.body\n",
    "clip = ImageClip('assets for Channel/assets for video/background assets/fondo_preguntas.jpg').on_color((1920, 1080))\n",
    "\n",
    "postedBy = TextClip('Posted by /'+commenttext.author.name, fontsize=postedByFontSize, color='white')\n",
    "\n",
    "linesOfReply = [filteredSubmission[i:i+characterLimitBeforeNewLine] for i in range(0, len(filteredSubmission), characterLimitBeforeNewLine)]\n",
    "replyaudio=AudioFileClip('comment0.mp3')\n",
    "index=0\n",
    "yAxis=184\n",
    "for line in linesOfReply:\n",
    "    if(line.find('\\n')!=-1):\n",
    "        sublines=line.split('\\n')\n",
    "        for subline in sublines:\n",
    "            replyline=TextClip(subline, fontsize=postedByFontSize, color='white')\n",
    "            replyline=replyline.set_pos((162,yAxis))\n",
    "            textReply.append(replyline)\n",
    "            yAxis+=25\n",
    "        continue\n",
    "    reply=TextClip(line, fontsize=postedByFontSize, color='white')\n",
    "    reply=reply.set_pos((162,yAxis))\n",
    "    textReply.append(reply)\n",
    "    print(yAxis)\n",
    "    print(line)\n",
    "    yAxis+=25\n",
    "    index+=1\n",
    "#reply = TextClip(example, fontsize=replyFontSize, color='white')\n",
    "postedBy=postedBy.set_pos((162, 124))\n",
    "videoComponents.append(clip)\n",
    "videoComponents.append(postedBy)\n",
    "videoComponents.extend(textReply)\n",
    "cvc = CompositeVideoClip(videoComponents)\n",
    "cvc = cvc.set_duration(replyaudio.duration)\n",
    "cvc = cvc.set_audio(replyaudio)\n",
    "finalVideo=concatenate_videoclips([cvc,cortinilla])\n",
    "finalVideo.write_videofile(\"text.mp4\", fps=24)\n",
    " "
   ]
  },
  {
   "cell_type": "code",
   "execution_count": null,
   "metadata": {},
   "outputs": [],
   "source": [
    "#upload video to Youtube"
   ]
  }
 ],
 "metadata": {
  "kernelspec": {
   "display_name": "Python 3",
   "language": "python",
   "name": "python3"
  },
  "language_info": {
   "codemirror_mode": {
    "name": "ipython",
    "version": 3
   },
   "file_extension": ".py",
   "mimetype": "text/x-python",
   "name": "python",
   "nbconvert_exporter": "python",
   "pygments_lexer": "ipython3",
   "version": "3.7.3"
  }
 },
 "nbformat": 4,
 "nbformat_minor": 2
}
