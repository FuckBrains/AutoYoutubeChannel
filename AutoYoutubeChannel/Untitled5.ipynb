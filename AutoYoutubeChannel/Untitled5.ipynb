{
 "cells": [
  {
   "cell_type": "code",
   "execution_count": 1,
   "metadata": {},
   "outputs": [],
   "source": [
    "from moviepy.editor import *\n",
    "\n",
    "postedByFontSize=25\n",
    "replyFontSize=35\n",
    "titleFontSize=100\n",
    "cortinilla= VideoFileClip('assets for Channel/assets for video/transicion.mp4')\n",
    "clip = ImageClip('assets for Channel/assets for video/background assets/fondo_preguntas.jpg').on_color((1920, 1080))\n",
    "final= VideoFileClip('assets for Channel/assets for video/transicion.mp4')"
   ]
  },
  {
   "cell_type": "code",
   "execution_count": 2,
   "metadata": {},
   "outputs": [],
   "source": [
    "def generate_video_of_reply(author,replyLines,replyaudio):\n",
    "    videoComponents=[]\n",
    "    textReply= []\n",
    "    postedBy = TextClip('Posted by /'+author, fontsize=postedByFontSize, color='white')\n",
    "    postedBy=postedBy.set_pos((162, 124))\n",
    "    index=0\n",
    "    yAxis=184\n",
    "    for replyLine in replyLines:\n",
    "        print('line '+str(index)+replyLine)\n",
    "        try:\n",
    "            replyline=TextClip(replyLine, fontsize=postedByFontSize, color='white')\n",
    "            replyline=replyline.set_pos((162,yAxis))\n",
    "            textReply.append(replyline)\n",
    "        except:\n",
    "            print('null line')\n",
    "        print(yAxis)\n",
    "        yAxis+=25\n",
    "        index+=1\n",
    "    videoComponents.append(clip)\n",
    "    videoComponents.append(postedBy)\n",
    "    videoComponents.extend(textReply)\n",
    "    replyVideo = CompositeVideoClip(videoComponents)\n",
    "    replyVideo = replyVideo.set_duration(replyaudio.duration)\n",
    "    replyVideo = replyVideo.set_audio(replyaudio)\n",
    "    return replyVideo"
   ]
  },
  {
   "cell_type": "code",
   "execution_count": 1,
   "metadata": {},
   "outputs": [],
   "source": [
    "def generate_final_video(title,replies):\n",
    "    videoClips=[]\n",
    "    videoClips.append(generate_title(title))\n",
    "    index=0\n",
    "    for reply in replies:\n",
    "        audio=AudioFileClip('comment'+str(index)+'.mp3')\n",
    "        videoClips.append(generate_video_of_reply(reply['author'],reply['replyLines'],audio))\n",
    "        videoClips.append(cortinilla)\n",
    "        index+=1\n",
    "    videoClips.append(final)\n",
    "    finalVideo=concatenate_videoclips(videoClips)\n",
    "    finalVideo.fx(vfx.speedx, factor=1.3)\n",
    "    finalVideo.write_videofile(\"text.mp4\", fps=24)"
   ]
  },
  {
   "cell_type": "code",
   "execution_count": null,
   "metadata": {},
   "outputs": [],
   "source": [
    "def generate_title(title): \n",
    "    videoComponents=[]\n",
    "    yAxisJumpInLine=80\n",
    "    maxCharsInLine=38\n",
    "    titleaudio=AudioFileClip('title.mp3')\n",
    "    titleline=TextClip(title, fontsize=titleFontSize, color='white')\n",
    "    titleline=titleline.set_pos((202,94))\n",
    "    #if(len(titleline)>38):\n",
    "     #   sublines=[line[i:i+maxCharsInLine] for i in range(0, len(line), maxCharsInLine)]\n",
    "      #  sublinesSize=len(sublines)\n",
    "       # for x in range(sublinesSize):\n",
    "        #    index = len(sublines[x]) # calculate length of string and save in index\n",
    "         #   while index > 0: \n",
    "          #      if(sublines[x][ index - 1 ]==' '): # save the value of str[index-1] in reverseString\n",
    "           #     index = index - 1\n",
    "            #if(' ' in sublines[x+1]):\n",
    "                \n",
    "    videoComponents.append(clip)\n",
    "    videoComponents.append(titleline)\n",
    "    titleVideo = CompositeVideoClip(videoComponents)\n",
    "    titleVideo = titleVideo.set_duration(titleaudio.duration)\n",
    "    titleVideo = titleVideo.set_audio(titleaudio)\n",
    "    return titleVideo\n",
    "        "
   ]
  }
 ],
 "metadata": {
  "kernelspec": {
   "display_name": "Python 3",
   "language": "python",
   "name": "python3"
  },
  "language_info": {
   "codemirror_mode": {
    "name": "ipython",
    "version": 3
   },
   "file_extension": ".py",
   "mimetype": "text/x-python",
   "name": "python",
   "nbconvert_exporter": "python",
   "pygments_lexer": "ipython3",
   "version": "3.7.3"
  }
 },
 "nbformat": 4,
 "nbformat_minor": 2
}
